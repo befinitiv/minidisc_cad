{
 "cells": [
  {
   "cell_type": "code",
   "execution_count": 1,
   "id": "e3b4ede1-ecfc-4ea5-847a-9a32fede7fa7",
   "metadata": {},
   "outputs": [
    {
     "name": "stderr",
     "output_type": "stream",
     "text": [
      "('invalid boolean data', [1249, 'locked', 'yes'])\n",
      "('invalid boolean data', [3555, 'locked', 'yes'])\n",
      "('invalid boolean data', [4794, 'locked', 'yes'])\n",
      "('invalid boolean data', [12879, 'locked', 'yes'])\n",
      "('invalid boolean data', [13973, 'locked', 'yes'])\n",
      "('invalid boolean data', [14885, 'locked', 'yes'])\n",
      "('invalid boolean data', [18195, 'locked', 'yes'])\n",
      "('invalid boolean data', [25107, 'locked', 'yes'])\n",
      "('invalid boolean data', [26873, 'locked', 'yes'])\n",
      "('invalid boolean data', [30922, 'locked', 'yes'])\n",
      "('invalid boolean data', [34410, 'locked', 'yes'])\n"
     ]
    },
    {
     "name": "stdout",
     "output_type": "stream",
     "text": [
      "Overwriting auto display for cadquery Workplane and Shape\n"
     ]
    }
   ],
   "source": [
    "import pcbimport\n",
    "from build123d import *\n",
    "from jupyter_cadquery import open_viewer, set_defaults, show, get_defaults\n",
    "set_defaults(theme=\"dark\")\n",
    "cv = open_viewer(\"CadQuery\", anchor=\"right\", glass=True)\n",
    "set_defaults(reset_camera=False)"
   ]
  },
  {
   "cell_type": "code",
   "execution_count": 2,
   "id": "94e24d0b-4427-4301-939a-93fb686c4e22",
   "metadata": {},
   "outputs": [
    {
     "name": "stderr",
     "output_type": "stream",
     "text": [
      "/tmp/ipykernel_873809/3685180401.py:10: DeprecationWarning: Use the `export_stl` function instead\n",
      "  rodholder.export_stl('/tmp/rodholder.stl')\n"
     ]
    }
   ],
   "source": [
    "AXIS_D = 2\n",
    "TH = 1\n",
    "H = 7\n",
    "\n",
    "\n",
    "rodholder = Cylinder(AXIS_D/2+TH, H) - Pos(0,0, TH) * Cylinder(AXIS_D/2+0.2, H) \\\n",
    "+ Pos(5/2, (TH-0.2)/2+AXIS_D/2+0.2) * Box(5, TH-0.2, H) \\\n",
    "+ Pos(6/2 + 5-2, TH/2+AXIS_D/2+TH) * Box(6, TH, H)\n",
    "\n",
    "rodholder.export_stl('/tmp/rodholder.stl')\n",
    "rodholder"
   ]
  },
  {
   "cell_type": "code",
   "execution_count": 3,
   "id": "6270505f-c3e8-4da1-baa0-2aa3cfcd6a9a",
   "metadata": {},
   "outputs": [
    {
     "name": "stderr",
     "output_type": "stream",
     "text": [
      "/tmp/ipykernel_873809/2470931162.py:34: DeprecationWarning: Use the `export_stl` function instead\n",
      "  drive_base.export_stl('/tmp/drive_base.stl')\n"
     ]
    }
   ],
   "source": [
    "# Main SURFACE\n",
    "TA = (Align.CENTER, Align.CENTER, Align.MIN)\n",
    "MAIN_SURFACE_Z = 1.5\n",
    "MAIN_SURFACE_X = 99\n",
    "MAIN_SURFACE_Y = 85\n",
    "\n",
    "HOUSING_RADIUS = 10\n",
    "\n",
    "# mounting studs for drive unit\n",
    "STUD0 = [10.5 - 100/2, 40 - 85/2]\n",
    "STUD1 = [84.5 - 100/2, 7.5 - 85/2]\n",
    "STUD2 = [81.5 - 100/2, 79 - 85/2]\n",
    "\n",
    "STUD_RUBBER_D = 7\n",
    "STUD_H = 3\n",
    "STUD_D = 3.5\n",
    "STUD_OFFSET_Z = 0.6 # The stud starts 1mm above the main surface\n",
    "STUD_DRILL_D = 1.5\n",
    "\n",
    "\n",
    "OFFSET_DRIVE = Pos(2.5,0)\n",
    "\n",
    "POS_DRIVE = OFFSET_DRIVE * Pos(47.5, 38) * Rot(180,0,90) # we need to rotate and shift the data from the drawing of the drive\n",
    "DRIVE_OUTLINE = POS_DRIVE * extrude(make_face(import_svg('drawing_drive_mechanics_without_holes.svg')), 10, both=True)\n",
    "STUDS = [OFFSET_DRIVE * Pos(p) for p in [STUD0, STUD1, STUD2]]\n",
    "\n",
    "#+ Pos(MAIN_SURFACE_X/2-1/2-1, 0) * Box(1, MAIN_SURFACE_Y, MAIN_SURFACE_Z, align=TA) \\\n",
    "drive_base = fillet(Box(MAIN_SURFACE_X, MAIN_SURFACE_Y, MAIN_SURFACE_Z, align=TA).edges() | Axis.Z, HOUSING_RADIUS) \\\n",
    "- DRIVE_OUTLINE \\\n",
    "- Pos(0,0,STUD_OFFSET_Z) * STUDS * Cylinder((STUD_RUBBER_D+0.5)/2, 10, align=TA) \\\n",
    "+ Pos(0,0,STUD_OFFSET_Z) * STUDS * Cylinder(STUD_D/2, STUD_H, align=TA) \\\n",
    "- Pos(0,0,STUD_OFFSET_Z) * STUDS * Cylinder(STUD_DRILL_D/2, STUD_H, align=TA)\n",
    "\n",
    "drive_base.export_stl('/tmp/drive_base.stl')\n",
    "drive_base"
   ]
  },
  {
   "cell_type": "code",
   "execution_count": 29,
   "id": "7e4d7b24-29d6-4751-96b4-c7374f6343f7",
   "metadata": {},
   "outputs": [],
   "source": [
    "# housing shell\n",
    "SHELL_Z = 10 # measured from Z=0\n",
    "SHELL_TH = 1\n",
    "\n",
    "# mount of main PCB\n",
    "PCB_OFFSET_X = 1.5\n",
    "PCB_OFFSET_Y = -6\n",
    "STUDS_PCB_H = 3 #above main surface\n",
    "PCB_TH = 0.8\n",
    "SWITCH_TH = 1\n",
    "\n",
    "PCB_POS = Pos(-MAIN_SURFACE_X/2+PCB_OFFSET_X, MAIN_SURFACE_Y/2+PCB_OFFSET_Y, MAIN_SURFACE_Z + STUDS_PCB_H)\n",
    "shell = fillet(Box(MAIN_SURFACE_X, MAIN_SURFACE_Y, SHELL_Z, align=TA).edges() | Axis.Z, HOUSING_RADIUS)\n",
    "shell = offset(shell, -SHELL_TH, shell.faces() | Axis.Z)\n",
    "\n",
    "switch_drill = Rot(0,90,0) * Cylinder(4/2, 10)\n",
    "switch_drills = [PCB_POS * Pos(0,0,PCB_TH + SWITCH_TH/2) * Pos(p) for p in pcbimport.get_switches()] * switch_drill\n",
    "\n",
    "usb_c_pos = pcbimport.get_component_location(\"USB1\")\n",
    "usb_c = PCB_POS * Pos(usb_c_pos[0], usb_c_pos[1], PCB_TH + 3/2) * Box(20, 9.5, 3.5)\n",
    "\n",
    "microsd_pos = pcbimport.get_component_location(\"Card1\")\n",
    "microsd = PCB_POS * Pos(microsd_pos[0], microsd_pos[1], PCB_TH+2.5/2) * Box(30, 16, 3)\n",
    "\n",
    "audio_pos = pcbimport.get_component_location(\"Audio1\")\n",
    "audio = PCB_POS * Pos(audio_pos[0], audio_pos[1], PCB_TH+5.6/2+0.2) * Rot(0,90,0) * Cylinder(5.6/2, 20)\n",
    "shell = shell - switch_drills - usb_c - microsd - audio\n",
    "\n",
    "shell"
   ]
  },
  {
   "cell_type": "code",
   "execution_count": 28,
   "id": "870c847c-308f-45f0-b847-4a6f07a1a1e1",
   "metadata": {},
   "outputs": [
    {
     "name": "stderr",
     "output_type": "stream",
     "text": [
      "/tmp/ipykernel_873809/3835016977.py:38: DeprecationWarning: Use the `export_stl` function instead\n",
      "  housing.export_stl('/tmp/housing.stl')\n"
     ]
    }
   ],
   "source": [
    "# mount of drive electronics\n",
    "STUDS_DRIVE_POS = [[58-101/2+6, 82-85/2-1-2], [6-101/2+6, 14-85/2-2.5], [18-101/2+6, 63-85/2-2]]\n",
    "STUDS_DRIVE_H = 3 #above main surface\n",
    "STUDS_DRIVE_DRILL_D = 1.5\n",
    "\n",
    "studs_drive = [Pos(p) for p in STUDS_DRIVE_POS] * (Cylinder(5/2, STUDS_DRIVE_H+MAIN_SURFACE_Z, align=TA) - Cylinder(STUDS_DRIVE_DRILL_D/2, STUDS_DRIVE_H+MAIN_SURFACE_Z, align=TA))\n",
    "\n",
    "\n",
    "HINGE_X = 5\n",
    "HINGE_Y = 5\n",
    "HINGE_HOLDER_X = 5\n",
    "HINGE_HOLDER_Y = 5\n",
    "HINGE_SPHERE_D = 2.5\n",
    "HINGE_HEIGHT = SHELL_Z - HINGE_SPHERE_D/2 - 1\n",
    "HINGE0_X = -MAIN_SURFACE_X/2 + HOUSING_RADIUS + HINGE_HOLDER_X\n",
    "HINGE1_X = MAIN_SURFACE_X/2 - HOUSING_RADIUS - HINGE_HOLDER_X - 12\n",
    "hinge_opening = Box(HINGE_X+0.6, HINGE_Y+0.6, SHELL_Z, align=(Align.MIN, Align.MAX, Align.MIN))\n",
    "hinge_holder = Box(HINGE_HOLDER_X, HINGE_HOLDER_Y, SHELL_Z, align=(Align.MAX, Align.MAX, Align.MIN)) + Pos(0, -HINGE_HOLDER_Y/2, HINGE_HEIGHT) * Sphere((HINGE_SPHERE_D)/2)\n",
    "\n",
    "housing = drive_base + shell + studs_drive\n",
    "#add hinges\n",
    "housing = housing - Pos(HINGE0_X, MAIN_SURFACE_Y/2) * hinge_opening + Pos(HINGE0_X, MAIN_SURFACE_Y/2) * hinge_holder\n",
    "housing = housing - Pos(HINGE1_X, MAIN_SURFACE_Y/2) * mirror(hinge_opening, Plane.YZ) + Pos(HINGE1_X, MAIN_SURFACE_Y/2) * mirror(hinge_holder, Plane.YZ)\n",
    "\n",
    "\n",
    "\n",
    "\n",
    "#STUDS_PCB_POS = [[4, -4.75], [2.25, -22], [7.25, -73.25], [32.25, -73.25], [77.25, -75.5], [93.25, -71.25], [71.25, -1.25], [90.25, -2.25], [2.25, -42.25]]\n",
    "STUDS_PCB_POS = pcbimport.get_mounting_holes()\n",
    "STUDS_PCB_D = 3.5\n",
    "STUDS_PCB_DRILL_D = 1.5\n",
    "stud_pcb = Cylinder(STUDS_PCB_D/2, STUDS_PCB_H+MAIN_SURFACE_Z, align=TA) - Cylinder(STUDS_PCB_DRILL_D/2, STUDS_PCB_H+MAIN_SURFACE_Z, align=TA)\n",
    "studs_pcb = [Pos(-MAIN_SURFACE_X/2+PCB_OFFSET_X, MAIN_SURFACE_Y/2+PCB_OFFSET_Y) * Pos(p) for p in STUDS_PCB_POS] * stud_pcb\n",
    "\n",
    "housing += studs_pcb\n",
    "\n",
    "\n",
    "housing.export_stl('/tmp/housing.stl')\n",
    "housing"
   ]
  },
  {
   "cell_type": "code",
   "execution_count": 98,
   "id": "73f28ca1-106a-4955-8346-0167365e7f9c",
   "metadata": {},
   "outputs": [
    {
     "name": "stderr",
     "output_type": "stream",
     "text": [
      "/tmp/ipykernel_873809/630081610.py:33: DeprecationWarning: Use the `export_stl` function instead\n",
      "  lid.export_stl('/tmp/lid.stl')\n"
     ]
    }
   ],
   "source": [
    "#lid\n",
    "LID_INNER_H = 4\n",
    "LID_TH = 1\n",
    "\n",
    "lid = fillet(Box(MAIN_SURFACE_X, MAIN_SURFACE_Y, LID_INNER_H+LID_TH, align=TA).edges() | Axis.Z, HOUSING_RADIUS)\n",
    "lid = chamfer(lid.edges().group_by()[0], 3)\n",
    "\n",
    "DISK_CENTER_X = -MAIN_SURFACE_X/2 + 41.8\n",
    "DISK_CENTER_Y = -MAIN_SURFACE_Y/2 + 42.8\n",
    "SPINDLE_D = 17\n",
    "\n",
    "lid = lid + Pos(DISK_CENTER_X, DISK_CENTER_Y) * Cylinder(83/2, LID_INNER_H+LID_TH, align=TA)\n",
    "\n",
    "lid = offset(lid, -LID_TH, lid.faces().group_by()[-1])\n",
    "\n",
    "top_hinge_plane =  Plane.XY.offset(LID_INNER_H+LID_TH+SHELL_Z)\n",
    "\n",
    "hinges_drawing =  top_hinge_plane * (Pos(HINGE0_X+0.2, MAIN_SURFACE_Y/2) * Rectangle(HINGE_X, HINGE_Y, align=(Align.MIN, Align.MAX)) + Pos(HINGE1_X-0.2, MAIN_SURFACE_Y/2) * Rectangle(HINGE_X, HINGE_Y, align=(Align.MAX, Align.MAX)))\n",
    "hinges = extrude(hinges_drawing, until=Until.NEXT, target=lid, dir=(0,0,-1)) - Pos(0,MAIN_SURFACE_Y/2-HINGE_Y/2,HINGE_HEIGHT+LID_TH+LID_INNER_H) * Rot(0,90,0) * Cylinder((HINGE_SPHERE_D)/2, MAIN_SURFACE_X)\n",
    "\n",
    "lid = lid + hinges - Pos(DISK_CENTER_X,DISK_CENTER_Y,0.5) * Cylinder(SPINDLE_D/2, LID_TH, align=TA)\n",
    "\n",
    "\n",
    "# Extension of hinge that presses onto the LID open switch\n",
    "lid += Pos(HINGE0_X+0.2+HINGE_X/2, MAIN_SURFACE_Y/2-HINGE_Y, 3.5+LID_INNER_H) * Box(HINGE_X, 2.5, 7.5, align=TA)\n",
    "\n",
    "#round off sides of the hinges\n",
    "lid = fillet((lid.edges().group_by()[-1] | Axis.X).group_by(Axis.Y)[0], 3.8)\n",
    "lid = fillet((lid.edges().group_by()[-1] | Axis.X).group_by(Axis.Y)[-1], 2)\n",
    "\n",
    "\n",
    "\n",
    "lid.export_stl('/tmp/lid.stl')\n",
    "lid"
   ]
  },
  {
   "cell_type": "code",
   "execution_count": 20,
   "id": "48980fa3-997d-4f9a-ae28-1bf94d72239d",
   "metadata": {},
   "outputs": [
    {
     "ename": "ValueError",
     "evalue": "STEP File /tmp/minidisc.step could not be loaded",
     "output_type": "error",
     "traceback": [
      "\u001b[0;31m---------------------------------------------------------------------------\u001b[0m",
      "\u001b[0;31mValueError\u001b[0m                                Traceback (most recent call last)",
      "Cell \u001b[0;32mIn[20], line 1\u001b[0m\n\u001b[0;32m----> 1\u001b[0m pcb \u001b[38;5;241m=\u001b[39m \u001b[43mimport_step\u001b[49m\u001b[43m(\u001b[49m\u001b[38;5;124;43m'\u001b[39;49m\u001b[38;5;124;43m/tmp/minidisc.step\u001b[39;49m\u001b[38;5;124;43m'\u001b[39;49m\u001b[43m)\u001b[49m\n\u001b[1;32m      2\u001b[0m pcb \u001b[38;5;241m=\u001b[39m Pos(\u001b[38;5;241m-\u001b[39mMAIN_SURFACE_X\u001b[38;5;241m/\u001b[39m\u001b[38;5;241m2\u001b[39m\u001b[38;5;241m+\u001b[39mPCB_OFFSET_X, MAIN_SURFACE_Y\u001b[38;5;241m/\u001b[39m\u001b[38;5;241m2\u001b[39m\u001b[38;5;241m+\u001b[39mPCB_OFFSET_Y, MAIN_SURFACE_Z\u001b[38;5;241m+\u001b[39mSTUDS_PCB_H)\u001b[38;5;241m*\u001b[39mpcb\n\u001b[1;32m      3\u001b[0m pcb\u001b[38;5;241m.\u001b[39mexport_stl(\u001b[38;5;124m'\u001b[39m\u001b[38;5;124m/tmp/pcb.stl\u001b[39m\u001b[38;5;124m'\u001b[39m)\n",
      "File \u001b[0;32m~/repos/minidisc/mech/.direnv/python-3.10.12/lib/python3.10/site-packages/build123d/importers.py:92\u001b[0m, in \u001b[0;36mimport_step\u001b[0;34m(file_name)\u001b[0m\n\u001b[1;32m     90\u001b[0m \u001b[38;5;66;03m# pylint fails to understand OCP's module here, so suppress on the next line.\u001b[39;00m\n\u001b[1;32m     91\u001b[0m \u001b[38;5;28;01mif\u001b[39;00m read_status \u001b[38;5;241m!=\u001b[39m OCP\u001b[38;5;241m.\u001b[39mIFSelect\u001b[38;5;241m.\u001b[39mIFSelect_RetDone:  \u001b[38;5;66;03m# pylint: disable=no-member\u001b[39;00m\n\u001b[0;32m---> 92\u001b[0m     \u001b[38;5;28;01mraise\u001b[39;00m \u001b[38;5;167;01mValueError\u001b[39;00m(\u001b[38;5;124mf\u001b[39m\u001b[38;5;124m\"\u001b[39m\u001b[38;5;124mSTEP File \u001b[39m\u001b[38;5;132;01m{\u001b[39;00mfile_name\u001b[38;5;132;01m}\u001b[39;00m\u001b[38;5;124m could not be loaded\u001b[39m\u001b[38;5;124m\"\u001b[39m)\n\u001b[1;32m     93\u001b[0m \u001b[38;5;28;01mfor\u001b[39;00m i \u001b[38;5;129;01min\u001b[39;00m \u001b[38;5;28mrange\u001b[39m(reader\u001b[38;5;241m.\u001b[39mNbRootsForTransfer()):\n\u001b[1;32m     94\u001b[0m     reader\u001b[38;5;241m.\u001b[39mTransferRoot(i \u001b[38;5;241m+\u001b[39m \u001b[38;5;241m1\u001b[39m)\n",
      "\u001b[0;31mValueError\u001b[0m: STEP File /tmp/minidisc.step could not be loaded"
     ]
    }
   ],
   "source": [
    "pcb = import_step('/tmp/minidisc.step')\n",
    "pcb = Pos(-MAIN_SURFACE_X/2+PCB_OFFSET_X, MAIN_SURFACE_Y/2+PCB_OFFSET_Y, MAIN_SURFACE_Z+STUDS_PCB_H)*pcb\n",
    "pcb.export_stl('/tmp/pcb.stl')\n",
    "pcb"
   ]
  },
  {
   "cell_type": "code",
   "execution_count": 155,
   "id": "86564888-f855-4fb5-80be-2f2340bab558",
   "metadata": {},
   "outputs": [
    {
     "name": "stdout",
     "output_type": "stream",
     "text": [
      "100% ⋮————————————————————————————————————————————————————————————⋮ (3/3)  0.36s\n"
     ]
    }
   ],
   "source": [
    "assembly = Compound(label='assembly', children=[housing, Pos(0,0,-(LID_INNER_H+LID_TH)) * lid, pcb])\n",
    "assembly.color = Color('red')\n",
    "assembly\n"
   ]
  },
  {
   "cell_type": "code",
   "execution_count": 15,
   "id": "fc5c1329-0d2f-4472-a6e8-4149ef3130e8",
   "metadata": {},
   "outputs": [],
   "source": [
    "pcbimport.get_component_location(\"USB1\")"
   ]
  },
  {
   "cell_type": "code",
   "execution_count": null,
   "id": "990d8e09-f2c0-4d20-ae5e-0df2067ae36a",
   "metadata": {},
   "outputs": [],
   "source": []
  }
 ],
 "metadata": {
  "kernelspec": {
   "display_name": "Python 3 (ipykernel)",
   "language": "python",
   "name": "python3"
  },
  "language_info": {
   "codemirror_mode": {
    "name": "ipython",
    "version": 3
   },
   "file_extension": ".py",
   "mimetype": "text/x-python",
   "name": "python",
   "nbconvert_exporter": "python",
   "pygments_lexer": "ipython3",
   "version": "3.10.12"
  }
 },
 "nbformat": 4,
 "nbformat_minor": 5
}
