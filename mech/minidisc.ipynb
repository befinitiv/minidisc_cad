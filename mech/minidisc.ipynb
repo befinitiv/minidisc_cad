{
 "cells": [
  {
   "cell_type": "code",
   "execution_count": 2,
   "id": "e3b4ede1-ecfc-4ea5-847a-9a32fede7fa7",
   "metadata": {},
   "outputs": [
    {
     "name": "stdout",
     "output_type": "stream",
     "text": [
      "Overwriting auto display for cadquery Workplane and Shape\n"
     ]
    }
   ],
   "source": [
    "from build123d import *\n",
    "from jupyter_cadquery import open_viewer, set_defaults, show, get_defaults\n",
    "set_defaults(theme=\"dark\")\n",
    "cv = open_viewer(\"CadQuery\", anchor=\"right\", glass=True)\n",
    "set_defaults(reset_camera=False)"
   ]
  },
  {
   "cell_type": "code",
   "execution_count": 36,
   "id": "94e24d0b-4427-4301-939a-93fb686c4e22",
   "metadata": {},
   "outputs": [],
   "source": [
    "AXIS_D = 2\n",
    "TH = 1\n",
    "H = 7\n",
    "\n",
    "\n",
    "rodholder = Cylinder(AXIS_D/2+TH, H) - Pos(0,0, TH) * Cylinder(AXIS_D/2+0.2, H) \\\n",
    "+ Pos(5/2, (TH-0.2)/2+AXIS_D/2+0.2) * Box(5, TH-0.2, H) \\\n",
    "+ Pos(6/2 + 5-2, TH/2+AXIS_D/2+TH) * Box(6, TH, H)\n",
    "\n",
    "rodholder.export_stl('/tmp/rodholder.stl')\n",
    "rodholder"
   ]
  },
  {
   "cell_type": "code",
   "execution_count": 146,
   "id": "6270505f-c3e8-4da1-baa0-2aa3cfcd6a9a",
   "metadata": {},
   "outputs": [],
   "source": [
    "# Main SURFACE\n",
    "TA = (Align.CENTER, Align.CENTER, Align.MIN)\n",
    "MAIN_SURFACE_Z = 1.5\n",
    "MAIN_SURFACE_X = 99\n",
    "MAIN_SURFACE_Y = 85\n",
    "\n",
    "HOUSING_RADIUS = 10\n",
    "\n",
    "# mounting studs for drive unit\n",
    "STUD0 = [10.5 - 100/2, 40 - 85/2]\n",
    "STUD1 = [84.5 - 100/2, 7.5 - 85/2]\n",
    "STUD2 = [81.5 - 100/2, 79 - 85/2]\n",
    "\n",
    "STUD_RUBBER_D = 7\n",
    "STUD_H = 3\n",
    "STUD_D = 3.5\n",
    "STUD_OFFSET_Z = 0.6 # The stud starts 1mm above the main surface\n",
    "STUD_DRILL_D = 1.5\n",
    "\n",
    "\n",
    "OFFSET_DRIVE = Pos(2.5,0)\n",
    "\n",
    "POS_DRIVE = OFFSET_DRIVE * Pos(47.5, 38) * Rot(180,0,90) # we need to rotate and shift the data from the drawing of the drive\n",
    "DRIVE_OUTLINE = POS_DRIVE * extrude(make_face(import_svg('drawing_drive_mechanics_without_holes.svg')), 10, both=True)\n",
    "STUDS = [OFFSET_DRIVE * Pos(p) for p in [STUD0, STUD1, STUD2]]\n",
    "\n",
    "#+ Pos(MAIN_SURFACE_X/2-1/2-1, 0) * Box(1, MAIN_SURFACE_Y, MAIN_SURFACE_Z, align=TA) \\\n",
    "drive_base = fillet(Box(MAIN_SURFACE_X, MAIN_SURFACE_Y, MAIN_SURFACE_Z, align=TA).edges() | Axis.Z, HOUSING_RADIUS) \\\n",
    "- DRIVE_OUTLINE \\\n",
    "- Pos(0,0,STUD_OFFSET_Z) * STUDS * Cylinder((STUD_RUBBER_D+0.5)/2, 10, align=TA) \\\n",
    "+ Pos(0,0,STUD_OFFSET_Z) * STUDS * Cylinder(STUD_D/2, STUD_H, align=TA) \\\n",
    "- Pos(0,0,STUD_OFFSET_Z) * STUDS * Cylinder(STUD_DRILL_D/2, STUD_H, align=TA)\n",
    "\n",
    "drive_base.export_stl('/tmp/drive_base.stl')\n",
    "drive_base"
   ]
  },
  {
   "cell_type": "code",
   "execution_count": 147,
   "id": "7e4d7b24-29d6-4751-96b4-c7374f6343f7",
   "metadata": {},
   "outputs": [],
   "source": [
    "# housing shell\n",
    "SHELL_Z = 10 # measured from Z=0\n",
    "SHELL_TH = 1\n",
    "\n",
    "shell = fillet(Box(MAIN_SURFACE_X, MAIN_SURFACE_Y, SHELL_Z, align=TA).edges() | Axis.Z, HOUSING_RADIUS)\n",
    "shell = offset(shell, -SHELL_TH, shell.faces() | Axis.Z)\n",
    "\n",
    "shell"
   ]
  },
  {
   "cell_type": "code",
   "execution_count": 161,
   "id": "870c847c-308f-45f0-b847-4a6f07a1a1e1",
   "metadata": {},
   "outputs": [],
   "source": [
    "# mount of drive electronics\n",
    "STUDS_DRIVE_POS = [[58-101/2+6, 82-85/2-1-2], [6-101/2+6, 14-85/2-2.5], [18-101/2+6, 63-85/2-2]]\n",
    "STUDS_DRIVE_H = 3 #above main surface\n",
    "STUDS_DRIVE_DRILL_D = 1.5\n",
    "\n",
    "studs_drive = [Pos(p) for p in STUDS_DRIVE_POS] * (Cylinder(5/2, STUDS_DRIVE_H+MAIN_SURFACE_Z, align=TA) - Cylinder(STUDS_DRIVE_DRILL_D/2, STUDS_DRIVE_H+MAIN_SURFACE_Z, align=TA))\n",
    "\n",
    "\n",
    "HINGE_X = 5\n",
    "HINGE_Y = 5\n",
    "HINGE_HOLDER_X = 5\n",
    "HINGE_HOLDER_Y = 5\n",
    "HINGE_SPHERE_D = 2.5\n",
    "HINGE_HEIGHT = SHELL_Z - HINGE_SPHERE_D/2 - 1\n",
    "HINGE0_X = -MAIN_SURFACE_X/2 + HOUSING_RADIUS + HINGE_HOLDER_X\n",
    "HINGE1_X = MAIN_SURFACE_X/2 - HOUSING_RADIUS - HINGE_HOLDER_X - 12\n",
    "hinge_opening = Box(HINGE_X+0.6, HINGE_Y+0.6, SHELL_Z, align=(Align.MIN, Align.MAX, Align.MIN))\n",
    "hinge_holder = Box(HINGE_HOLDER_X, HINGE_HOLDER_Y, SHELL_Z, align=(Align.MAX, Align.MAX, Align.MIN)) + Pos(0, -HINGE_HOLDER_Y/2, HINGE_HEIGHT) * Sphere((HINGE_SPHERE_D)/2)\n",
    "\n",
    "housing = drive_base + shell + studs_drive\n",
    "#add hinges\n",
    "housing = housing - Pos(HINGE0_X, MAIN_SURFACE_Y/2) * hinge_opening + Pos(HINGE0_X, MAIN_SURFACE_Y/2) * hinge_holder\n",
    "housing = housing - Pos(HINGE1_X, MAIN_SURFACE_Y/2) * mirror(hinge_opening, Plane.YZ) + Pos(HINGE1_X, MAIN_SURFACE_Y/2) * mirror(hinge_holder, Plane.YZ)\n",
    "\n",
    "\n",
    "# mount of main PCB\n",
    "PCB_OFFSET_X = 1.5\n",
    "PCB_OFFSET_Y = -6\n",
    "STUDS_PCB_POS = [[4, -4.75], [2.25, -22], [7.25, -73.25], [32.25, -73.25], [77.25, -75.5], [93.25, -71.25], [71.25, -1.25], [90.25, -2.25], [2.25, -42.25]]\n",
    "STUDS_PCB_H = 3 #above main surface\n",
    "STUDS_PCB_D = 3.5\n",
    "STUDS_PCB_DRILL_D = 1.5\n",
    "stud_pcb = Cylinder(STUDS_PCB_D/2, STUDS_PCB_H+MAIN_SURFACE_Z, align=TA) - Cylinder(STUDS_PCB_DRILL_D/2, STUDS_PCB_H+MAIN_SURFACE_Z, align=TA)\n",
    "studs_pcb = [Pos(-MAIN_SURFACE_X/2+PCB_OFFSET_X, MAIN_SURFACE_Y/2+PCB_OFFSET_Y) * Pos(p) for p in STUDS_PCB_POS] * stud_pcb\n",
    "\n",
    "housing += studs_pcb\n",
    "\n",
    "\n",
    "housing.export_stl('/tmp/housing.stl')\n",
    "housing"
   ]
  },
  {
   "cell_type": "code",
   "execution_count": 164,
   "id": "73f28ca1-106a-4955-8346-0167365e7f9c",
   "metadata": {},
   "outputs": [],
   "source": [
    "#lid\n",
    "LID_INNER_H = 3.5\n",
    "LID_TH = 1\n",
    "\n",
    "lid = fillet(Box(MAIN_SURFACE_X, MAIN_SURFACE_Y, LID_INNER_H+LID_TH, align=TA).edges() | Axis.Z, HOUSING_RADIUS)\n",
    "lid = chamfer(lid.edges().group_by()[0], 3)\n",
    "\n",
    "DISK_CENTER_X = -MAIN_SURFACE_X/2 + 41.8\n",
    "DISK_CENTER_Y = -MAIN_SURFACE_Y/2 + 42.8\n",
    "SPINDLE_D = 17\n",
    "\n",
    "lid = lid + Pos(DISK_CENTER_X, DISK_CENTER_Y) * Cylinder(83/2, LID_INNER_H+LID_TH, align=TA)\n",
    "\n",
    "lid = offset(lid, -LID_TH, lid.faces().group_by()[-1])\n",
    "\n",
    "top_hinge_plane =  Plane.XY.offset(LID_INNER_H+LID_TH+SHELL_Z)\n",
    "\n",
    "hinges_drawing =  top_hinge_plane * (Pos(HINGE0_X+0.2, MAIN_SURFACE_Y/2) * Rectangle(HINGE_X, HINGE_Y, align=(Align.MIN, Align.MAX)) + Pos(HINGE1_X-0.2, MAIN_SURFACE_Y/2) * Rectangle(HINGE_X, HINGE_Y, align=(Align.MAX, Align.MAX)))\n",
    "hinges = extrude(hinges_drawing, until=Until.NEXT, target=lid, dir=(0,0,-1)) - Pos(0,MAIN_SURFACE_Y/2-HINGE_Y/2,HINGE_HEIGHT+LID_TH+LID_INNER_H) * Rot(0,90,0) * Cylinder((HINGE_SPHERE_D)/2, MAIN_SURFACE_X)\n",
    "lid = lid + hinges - Pos(DISK_CENTER_X,DISK_CENTER_Y,0.5) * Cylinder(SPINDLE_D/2, LID_TH, align=TA)\n",
    "\n",
    "#round off one side of the hinges\n",
    "lid = fillet((lid.edges().group_by()[-1] | Axis.X).group_by(Axis.Y)[-1], 3)\n",
    "\n",
    "\n",
    "lid.export_stl('/tmp/lid.stl')\n",
    "lid"
   ]
  },
  {
   "cell_type": "code",
   "execution_count": 154,
   "id": "48980fa3-997d-4f9a-ae28-1bf94d72239d",
   "metadata": {},
   "outputs": [],
   "source": [
    "pcb = import_step('/tmp/minidisc.step')\n",
    "pcb = Pos(-MAIN_SURFACE_X/2+PCB_OFFSET_X, MAIN_SURFACE_Y/2+PCB_OFFSET_Y, MAIN_SURFACE_Z+STUDS_PCB_H)*pcb\n",
    "pcb.export_stl('/tmp/pcb.stl')\n",
    "pcb"
   ]
  },
  {
   "cell_type": "code",
   "execution_count": 155,
   "id": "86564888-f855-4fb5-80be-2f2340bab558",
   "metadata": {},
   "outputs": [
    {
     "name": "stdout",
     "output_type": "stream",
     "text": [
      "100% ⋮————————————————————————————————————————————————————————————⋮ (3/3)  0.36s\n"
     ]
    }
   ],
   "source": [
    "assembly = Compound(label='assembly', children=[housing, Pos(0,0,-(LID_INNER_H+LID_TH)) * lid, pcb])\n",
    "assembly.color = Color('red')\n",
    "assembly\n"
   ]
  },
  {
   "cell_type": "code",
   "execution_count": null,
   "id": "fc5c1329-0d2f-4472-a6e8-4149ef3130e8",
   "metadata": {},
   "outputs": [],
   "source": []
  },
  {
   "cell_type": "code",
   "execution_count": null,
   "id": "990d8e09-f2c0-4d20-ae5e-0df2067ae36a",
   "metadata": {},
   "outputs": [],
   "source": []
  }
 ],
 "metadata": {
  "kernelspec": {
   "display_name": "Python 3 (ipykernel)",
   "language": "python",
   "name": "python3"
  },
  "language_info": {
   "codemirror_mode": {
    "name": "ipython",
    "version": 3
   },
   "file_extension": ".py",
   "mimetype": "text/x-python",
   "name": "python",
   "nbconvert_exporter": "python",
   "pygments_lexer": "ipython3",
   "version": "3.10.12"
  }
 },
 "nbformat": 4,
 "nbformat_minor": 5
}
