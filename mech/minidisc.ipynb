{
 "cells": [
  {
   "cell_type": "code",
   "execution_count": 1,
   "id": "e3b4ede1-ecfc-4ea5-847a-9a32fede7fa7",
   "metadata": {},
   "outputs": [
    {
     "name": "stderr",
     "output_type": "stream",
     "text": [
      "('invalid boolean data', [1251, 'locked', 'yes'])\n",
      "('invalid boolean data', [3557, 'locked', 'yes'])\n",
      "('invalid boolean data', [4796, 'locked', 'yes'])\n",
      "('invalid boolean data', [12881, 'locked', 'yes'])\n",
      "('invalid boolean data', [13975, 'locked', 'yes'])\n",
      "('invalid boolean data', [14887, 'locked', 'yes'])\n",
      "('invalid boolean data', [18197, 'locked', 'yes'])\n",
      "('invalid boolean data', [25109, 'locked', 'yes'])\n",
      "('invalid boolean data', [26875, 'locked', 'yes'])\n",
      "('invalid boolean data', [30924, 'locked', 'yes'])\n",
      "('invalid boolean data', [34412, 'locked', 'yes'])\n"
     ]
    },
    {
     "name": "stdout",
     "output_type": "stream",
     "text": [
      "Overwriting auto display for cadquery Workplane and Shape\n"
     ]
    }
   ],
   "source": [
    "import numpy\n",
    "import pcbimport\n",
    "from build123d import *\n",
    "from jupyter_cadquery import open_viewer, set_defaults, show, get_defaults\n",
    "set_defaults(theme=\"dark\")\n",
    "cv = open_viewer(\"CadQuery\", anchor=\"right\", glass=True)\n",
    "set_defaults(reset_camera=False)"
   ]
  },
  {
   "cell_type": "code",
   "execution_count": 203,
   "id": "94e24d0b-4427-4301-939a-93fb686c4e22",
   "metadata": {},
   "outputs": [
    {
     "name": "stderr",
     "output_type": "stream",
     "text": [
      "/tmp/ipykernel_1940918/3685180401.py:10: DeprecationWarning: Use the `export_stl` function instead\n",
      "  rodholder.export_stl('/tmp/rodholder.stl')\n"
     ]
    }
   ],
   "source": [
    "AXIS_D = 2\n",
    "TH = 1\n",
    "H = 7\n",
    "\n",
    "\n",
    "rodholder = Cylinder(AXIS_D/2+TH, H) - Pos(0,0, TH) * Cylinder(AXIS_D/2+0.2, H) \\\n",
    "+ Pos(5/2, (TH-0.2)/2+AXIS_D/2+0.2) * Box(5, TH-0.2, H) \\\n",
    "+ Pos(6/2 + 5-2, TH/2+AXIS_D/2+TH) * Box(6, TH, H)\n",
    "\n",
    "rodholder.export_stl('/tmp/rodholder.stl')\n",
    "rodholder"
   ]
  },
  {
   "cell_type": "code",
   "execution_count": 204,
   "id": "6270505f-c3e8-4da1-baa0-2aa3cfcd6a9a",
   "metadata": {},
   "outputs": [
    {
     "name": "stderr",
     "output_type": "stream",
     "text": [
      "/tmp/ipykernel_1940918/2470931162.py:34: DeprecationWarning: Use the `export_stl` function instead\n",
      "  drive_base.export_stl('/tmp/drive_base.stl')\n"
     ]
    }
   ],
   "source": [
    "# Main SURFACE\n",
    "TA = (Align.CENTER, Align.CENTER, Align.MIN)\n",
    "MAIN_SURFACE_Z = 1.5\n",
    "MAIN_SURFACE_X = 99\n",
    "MAIN_SURFACE_Y = 85\n",
    "\n",
    "HOUSING_RADIUS = 10\n",
    "\n",
    "# mounting studs for drive unit\n",
    "STUD0 = [10.5 - 100/2, 40 - 85/2]\n",
    "STUD1 = [84.5 - 100/2, 7.5 - 85/2]\n",
    "STUD2 = [81.5 - 100/2, 79 - 85/2]\n",
    "\n",
    "STUD_RUBBER_D = 7\n",
    "STUD_H = 3\n",
    "STUD_D = 3.5\n",
    "STUD_OFFSET_Z = 0.6 # The stud starts 1mm above the main surface\n",
    "STUD_DRILL_D = 1.5\n",
    "\n",
    "\n",
    "OFFSET_DRIVE = Pos(2.5,0)\n",
    "\n",
    "POS_DRIVE = OFFSET_DRIVE * Pos(47.5, 38) * Rot(180,0,90) # we need to rotate and shift the data from the drawing of the drive\n",
    "DRIVE_OUTLINE = POS_DRIVE * extrude(make_face(import_svg('drawing_drive_mechanics_without_holes.svg')), 10, both=True)\n",
    "STUDS = [OFFSET_DRIVE * Pos(p) for p in [STUD0, STUD1, STUD2]]\n",
    "\n",
    "#+ Pos(MAIN_SURFACE_X/2-1/2-1, 0) * Box(1, MAIN_SURFACE_Y, MAIN_SURFACE_Z, align=TA) \\\n",
    "drive_base = fillet(Box(MAIN_SURFACE_X, MAIN_SURFACE_Y, MAIN_SURFACE_Z, align=TA).edges() | Axis.Z, HOUSING_RADIUS) \\\n",
    "- DRIVE_OUTLINE \\\n",
    "- Pos(0,0,STUD_OFFSET_Z) * STUDS * Cylinder((STUD_RUBBER_D+0.5)/2, 10, align=TA) \\\n",
    "+ Pos(0,0,STUD_OFFSET_Z) * STUDS * Cylinder(STUD_D/2, STUD_H, align=TA) \\\n",
    "- Pos(0,0,STUD_OFFSET_Z) * STUDS * Cylinder(STUD_DRILL_D/2, STUD_H, align=TA)\n",
    "\n",
    "drive_base.export_stl('/tmp/drive_base.stl')\n",
    "drive_base"
   ]
  },
  {
   "cell_type": "code",
   "execution_count": 205,
   "id": "7e4d7b24-29d6-4751-96b4-c7374f6343f7",
   "metadata": {},
   "outputs": [],
   "source": [
    "# housing shell\n",
    "SHELL_Z = 10 # measured from Z=0\n",
    "SHELL_TH = 1\n",
    "\n",
    "# mount of main PCB\n",
    "PCB_OFFSET_X = 1.5\n",
    "PCB_OFFSET_Y = -6\n",
    "STUDS_PCB_H = 3 #above main surface\n",
    "PCB_TH = 0.8\n",
    "SWITCH_TH = 1\n",
    "\n",
    "PCB_POS = Pos(-MAIN_SURFACE_X/2+PCB_OFFSET_X, MAIN_SURFACE_Y/2+PCB_OFFSET_Y, MAIN_SURFACE_Z + STUDS_PCB_H)\n",
    "shell = fillet(Box(MAIN_SURFACE_X, MAIN_SURFACE_Y, SHELL_Z, align=TA).edges() | Axis.Z, HOUSING_RADIUS)\n",
    "shell = offset(shell, -SHELL_TH, shell.faces() | Axis.Z)\n",
    "\n",
    "SWITCH_DRILL_D = 4.5\n",
    "switch_drill = Rot(0,90,0) * Cylinder(SWITCH_DRILL_D/2, 10)\n",
    "switch_drills = [PCB_POS * Pos(0,0,PCB_TH + SWITCH_TH/2) * Pos(p) for p in pcbimport.get_switches()] * switch_drill\n",
    "\n",
    "usb_c_pos = pcbimport.get_component_location(\"USB1\")\n",
    "usb_c = PCB_POS * Pos(usb_c_pos[0], usb_c_pos[1], PCB_TH + 3/2) * Box(20, 9.5, 3.5)\n",
    "\n",
    "microsd_pos = pcbimport.get_component_location(\"Card1\")\n",
    "microsd = PCB_POS * Pos(microsd_pos[0], microsd_pos[1], PCB_TH+2.5/2) * Box(30, 16, 3)\n",
    "\n",
    "audio_pos = pcbimport.get_component_location(\"Audio1\")\n",
    "audio = PCB_POS * Pos(audio_pos[0], audio_pos[1], PCB_TH+5.6/2-0.2) * Rot(0,90,0) * Cylinder(5.6/2, 20)\n",
    "shell = shell - switch_drills - usb_c - microsd - audio\n",
    "\n",
    "shell"
   ]
  },
  {
   "cell_type": "code",
   "execution_count": 206,
   "id": "870c847c-308f-45f0-b847-4a6f07a1a1e1",
   "metadata": {},
   "outputs": [
    {
     "name": "stderr",
     "output_type": "stream",
     "text": [
      "/tmp/ipykernel_1940918/2917629096.py:55: DeprecationWarning: Use the `export_stl` function instead\n",
      "  housing.export_stl('/tmp/housing.stl')\n"
     ]
    }
   ],
   "source": [
    "# mount of drive electronics\n",
    "STUDS_DRIVE_POS = [[58-101/2+6, 82-85/2-1-2], [6-101/2+6, 14-85/2-2.5], [18-101/2+6, 63-85/2-2]]\n",
    "STUDS_DRIVE_H = 3 #above main surface\n",
    "STUDS_DRIVE_DRILL_D = 1.5\n",
    "\n",
    "studs_drive = [Pos(p) for p in STUDS_DRIVE_POS] * (Cylinder(5/2, STUDS_DRIVE_H+MAIN_SURFACE_Z, align=TA) - Cylinder(STUDS_DRIVE_DRILL_D/2, STUDS_DRIVE_H+MAIN_SURFACE_Z, align=TA))\n",
    "\n",
    "\n",
    "HINGE_X = 5\n",
    "HINGE_Y = 5\n",
    "HINGE_HOLDER_X = 5\n",
    "HINGE_HOLDER_Y = 5\n",
    "HINGE_SPHERE_D = 2.5\n",
    "HINGE_HEIGHT = SHELL_Z - HINGE_SPHERE_D/2 - 1\n",
    "HINGE0_X = -MAIN_SURFACE_X/2 + HOUSING_RADIUS + HINGE_HOLDER_X\n",
    "HINGE1_X = MAIN_SURFACE_X/2 - HOUSING_RADIUS - HINGE_HOLDER_X - 12\n",
    "hinge_opening = Box(HINGE_X+0.6, HINGE_Y+0.6, SHELL_Z, align=(Align.MIN, Align.MAX, Align.MIN))\n",
    "hinge_holder = Box(HINGE_HOLDER_X, HINGE_HOLDER_Y, SHELL_Z, align=(Align.MAX, Align.MAX, Align.MIN)) + Pos(0, -HINGE_HOLDER_Y/2, HINGE_HEIGHT) * Sphere((HINGE_SPHERE_D)/2)\n",
    "\n",
    "housing = drive_base + shell + studs_drive\n",
    "#add hinges\n",
    "housing = housing - Pos(HINGE0_X, MAIN_SURFACE_Y/2) * hinge_opening + Pos(HINGE0_X, MAIN_SURFACE_Y/2) * hinge_holder\n",
    "housing = housing - Pos(HINGE1_X, MAIN_SURFACE_Y/2) * mirror(hinge_opening, Plane.YZ) + Pos(HINGE1_X, MAIN_SURFACE_Y/2) * mirror(hinge_holder, Plane.YZ)\n",
    "\n",
    "\n",
    "\n",
    "\n",
    "STUDS_PCB_POS = pcbimport.get_mounting_holes()\n",
    "STUDS_PCB_D = 3.5\n",
    "STUDS_PCB_DRILL_D = 1.5\n",
    "stud_pcb = Cylinder(STUDS_PCB_D/2, STUDS_PCB_H+MAIN_SURFACE_Z, align=TA) - Cylinder(STUDS_PCB_DRILL_D/2, STUDS_PCB_H+MAIN_SURFACE_Z, align=TA)\n",
    "studs_pcb = [Pos(-MAIN_SURFACE_X/2+PCB_OFFSET_X, MAIN_SURFACE_Y/2+PCB_OFFSET_Y) * Pos(p) for p in STUDS_PCB_POS] * stud_pcb\n",
    "\n",
    "#for mounting the back cap\n",
    "STUDS_CAP_POS = [Pos(-MAIN_SURFACE_X/2+HOUSING_RADIUS-3, MAIN_SURFACE_Y/2-4, 0), Pos(MAIN_SURFACE_X/2-HOUSING_RADIUS+1, MAIN_SURFACE_Y/2-3, 0)]\n",
    "studs_cap =  STUDS_CAP_POS * stud_pcb\n",
    "\n",
    "housing += studs_pcb + studs_cap\n",
    "\n",
    "\n",
    "#cutout for display\n",
    "DISPLAY_Y = 32+0.5\n",
    "DISPLAY_X = 9.3+0.5\n",
    "DISPLAY_Z = 2\n",
    "DISPLAY_AREA_Y = 23 # todo\n",
    "DISPLAY_AREA_X = 5\n",
    "DISPLAY_AREA_OFFSET_Y = 1\n",
    "DISPLAY_AREA_OFFSET_X = 1.5\n",
    "display_cutout = Pos(-MAIN_SURFACE_X/2+DISPLAY_Y/2+HOUSING_RADIUS, DISPLAY_Z+0.4, -SHELL_Z/2+DISPLAY_X/2+0.2) * (Plane((housing.faces() | Axis.Y)[0]) * (Box(DISPLAY_X, DISPLAY_Y, DISPLAY_Z, align=TA) + Pos(DISPLAY_X/2-DISPLAY_AREA_X/2-DISPLAY_AREA_OFFSET_X,DISPLAY_Y/2-DISPLAY_AREA_Y/2-DISPLAY_AREA_OFFSET_Y,0) * Box(DISPLAY_AREA_X, DISPLAY_AREA_Y, 50, align=TA)))\n",
    "\n",
    "housing -= display_cutout\n",
    "\n",
    "\n",
    "\n",
    "housing.export_stl('/tmp/housing.stl')\n",
    "housing"
   ]
  },
  {
   "cell_type": "code",
   "execution_count": 207,
   "id": "73f28ca1-106a-4955-8346-0167365e7f9c",
   "metadata": {},
   "outputs": [
    {
     "name": "stderr",
     "output_type": "stream",
     "text": [
      "/tmp/ipykernel_1940918/1196160150.py:33: DeprecationWarning: Use the `export_stl` function instead\n",
      "  lid.export_stl('/tmp/lid.stl')\n"
     ]
    }
   ],
   "source": [
    "#lid\n",
    "LID_INNER_H = 3.2 #previously, this was 4. check for collisions with disk!\n",
    "LID_TH = 1\n",
    "\n",
    "lid = fillet(Box(MAIN_SURFACE_X, MAIN_SURFACE_Y, LID_INNER_H+LID_TH, align=TA).edges() | Axis.Z, HOUSING_RADIUS)\n",
    "lid = chamfer(lid.edges().group_by()[0], 3)\n",
    "\n",
    "DISK_CENTER_X = -MAIN_SURFACE_X/2 + 41.8\n",
    "DISK_CENTER_Y = -MAIN_SURFACE_Y/2 + 42.8\n",
    "SPINDLE_D = 17\n",
    "\n",
    "lid = lid + Pos(DISK_CENTER_X, DISK_CENTER_Y) * Cylinder(83/2, LID_INNER_H+LID_TH, align=TA)\n",
    "\n",
    "lid = offset(lid, -LID_TH, lid.faces().group_by()[-1])\n",
    "\n",
    "top_hinge_plane =  Plane.XY.offset(LID_INNER_H+LID_TH+SHELL_Z)\n",
    "\n",
    "hinges_drawing =  top_hinge_plane * (Pos(HINGE0_X+0.2, MAIN_SURFACE_Y/2) * Rectangle(HINGE_X, HINGE_Y, align=(Align.MIN, Align.MAX)) + Pos(HINGE1_X-0.2, MAIN_SURFACE_Y/2) * Rectangle(HINGE_X, HINGE_Y, align=(Align.MAX, Align.MAX)))\n",
    "hinges = extrude(hinges_drawing, until=Until.NEXT, target=lid, dir=(0,0,-1)) - Pos(0,MAIN_SURFACE_Y/2-HINGE_Y/2,HINGE_HEIGHT+LID_TH+LID_INNER_H) * Rot(0,90,0) * Cylinder((HINGE_SPHERE_D)/2, MAIN_SURFACE_X)\n",
    "\n",
    "lid = lid + hinges - Pos(DISK_CENTER_X,DISK_CENTER_Y,0.5) * (Cylinder(82/2, 20, align=TA) + Pos(0,0,-0.3) * Cylinder(SPINDLE_D/2, 20, align=TA))\n",
    "\n",
    "\n",
    "# Extension of hinge that presses onto the LID open switch\n",
    "lid += Pos(HINGE0_X+0.2+HINGE_X/2, MAIN_SURFACE_Y/2-HINGE_Y, 3.5+LID_INNER_H) * Box(HINGE_X, 2.5, 7.5, align=TA)\n",
    "\n",
    "#round off sides of the hinges\n",
    "lid = fillet((lid.edges().group_by()[-1] | Axis.X).group_by(Axis.Y)[0], 3.8)\n",
    "lid = fillet((lid.edges().group_by()[-1] | Axis.X).group_by(Axis.Y)[-1], 2)\n",
    "\n",
    "\n",
    "\n",
    "lid.export_stl('/tmp/lid.stl')\n",
    "lid"
   ]
  },
  {
   "cell_type": "code",
   "execution_count": 274,
   "id": "37d6c658-e485-421f-b70e-327b96936312",
   "metadata": {},
   "outputs": [
    {
     "name": "stderr",
     "output_type": "stream",
     "text": [
      "/tmp/ipykernel_873809/3780737958.py:19: DeprecationWarning: Use the `export_stl` function instead\n",
      "  switch_caps.export_stl('/tmp/switch_caps.stl')\n"
     ]
    }
   ],
   "source": [
    "#TODO\n",
    "\n",
    "SWITCH_CAP_D = SWITCH_DRILL_D-0.6\n",
    "SWITCH_CAP_H = 2.5\n",
    "SWITCH_CAP_FLANGE_TH = 0.7\n",
    "SWITCH_CAP_FLANGE_H = 0.5\n",
    "SWITCH_INNER_DRILL_D = SWITCH_DRILL_D-2\n",
    "SWITCH_INNER_DRILL_H = 0.4\n",
    "\n",
    "coords_sorted = numpy.sort(numpy.array(pcbimport.get_switches())[:, 1])\n",
    "coords_sorted -= coords_sorted[-1]\n",
    "coords_sorted\n",
    "switch_cap = Cylinder(SWITCH_CAP_D/2, SWITCH_CAP_H, align=TA) - Cylinder(SWITCH_INNER_DRILL_D/2, SWITCH_INNER_DRILL_H, align=TA)\n",
    "bar = Pos(coords_sorted[0]/2, 0, 0) * Box(-coords_sorted[0], SWITCH_CAP_D, SWITCH_CAP_FLANGE_H, align=(Align.CENTER, Align.CENTER, Align.MAX))\n",
    "\n",
    "switch_caps = bar + [Pos(p, 0, 0) for p in coords_sorted] * switch_cap - Pos(coords_sorted[0]/2, 0, SWITCH_CAP_FLANGE_H) * Box(-coords_sorted[0]+10, SWITCH_CAP_D - 2 * SWITCH_CAP_FLANGE_TH, SWITCH_CAP_FLANGE_H*2, align=(Align.CENTER, Align.CENTER, Align.MAX))\n",
    "\n",
    "switch_caps = chamfer(switch_caps.edges().group_by()[-1], 0.4)\n",
    "switch_caps.export_stl('/tmp/switch_caps.stl')\n",
    "switch_caps"
   ]
  },
  {
   "cell_type": "code",
   "execution_count": 199,
   "id": "5cd46014-098a-4731-8f4e-2fe384093edc",
   "metadata": {},
   "outputs": [
    {
     "name": "stderr",
     "output_type": "stream",
     "text": [
      "/tmp/ipykernel_1940918/2128904772.py:47: DeprecationWarning: Use the `export_stl` function instead\n",
      "  cap.export_stl('/tmp/cap.stl')\n"
     ]
    }
   ],
   "source": [
    "#bottom cap\n",
    "CAP_Z = 2\n",
    "\n",
    "\n",
    "shell_inner_edge = make_face(shell.edges().group_by()[0][8:])\n",
    "shell_inner_edge = offset(shell_inner_edge, -0.3)\n",
    "\n",
    "cap = extrude(shell_inner_edge, CAP_Z)\n",
    "\n",
    "hinge_cutout0 = Pos(HINGE0_X, MAIN_SURFACE_Y/2) * hinge_opening + Pos(HINGE0_X, MAIN_SURFACE_Y/2) * hinge_holder\n",
    "hinge_cutout0 = offset(hinge_cutout0, 0.5)                                                                         \n",
    "hinge_cutout1 = Pos(HINGE1_X, MAIN_SURFACE_Y/2) * mirror(hinge_opening, Plane.YZ) + Pos(HINGE1_X, MAIN_SURFACE_Y/2) * mirror(hinge_holder, Plane.YZ)\n",
    "hinge_cutout1 = offset(hinge_cutout1, 0.5)\n",
    "\n",
    "AUDIO_X = 14.5+2\n",
    "AUDIO_Y = 6.5+1\n",
    "audio_pos = PCB_POS * Pos(MAIN_SURFACE_X-AUDIO_X/2, pcbimport.get_component_location(\"Audio1\")[1])\n",
    "\n",
    "BATTERY_X = 65 + 2\n",
    "BATTERY_Y = 50 + 2\n",
    "\n",
    "battery = Pos(-MAIN_SURFACE_X/2+SHELL_TH+1 + BATTERY_X/2,0,-10+CAP_Z-0.3) * Box(BATTERY_X, BATTERY_Y, 10, align=TA)\n",
    "\n",
    "display = Pos(-MAIN_SURFACE_X/2+DISPLAY_Y/2+HOUSING_RADIUS,-MAIN_SURFACE_Y/2+SHELL_TH+1,0) * Box(DISPLAY_Y, 1, 10)\n",
    "\n",
    "SCREW_HEAD_D = 3\n",
    "STUDS_D = 4\n",
    "STUDS_PCB_POS_SELECTED = [Pos(-MAIN_SURFACE_X/2+PCB_OFFSET_X, MAIN_SURFACE_Y/2+PCB_OFFSET_Y) * Pos(STUDS_PCB_POS[i]) for i in [6, 7]]\n",
    "\n",
    "#we have two types of studs. One that joins directly with studs on the housing part and one that also screws through the PCB\n",
    "#the latter needs to be shorter because the PCB needs to fit between housing studs and these cap studs\n",
    "STUD_LONG_Z = SHELL_Z - STUDS_PCB_H-MAIN_SURFACE_Z - CAP_Z\n",
    "STUD_SHORT_Z = STUD_LONG_Z - PCB_TH\n",
    "studs_long = STUDS_CAP_POS * Cylinder(STUDS_D/2, STUD_LONG_Z, align=(Align.CENTER, Align.CENTER, Align.MAX))\n",
    "studs_short = STUDS_PCB_POS_SELECTED * Cylinder(STUDS_D/2, STUD_SHORT_Z, align=(Align.CENTER, Align.CENTER, Align.MAX))\n",
    "cb_long = STUDS_CAP_POS * CounterBoreHole(radius = 1.6/2, counter_bore_radius = SCREW_HEAD_D/2, counter_bore_depth=STUD_LONG_Z-1, depth=20)\n",
    "cb_short = STUDS_PCB_POS_SELECTED * CounterBoreHole(radius = 1.6/2, counter_bore_radius = SCREW_HEAD_D/2, counter_bore_depth=STUD_SHORT_Z-1, depth=20)\n",
    "\n",
    "USBC_POS = Pos(MAIN_SURFACE_X/2 - 10/2, MAIN_SURFACE_Y/2+PCB_OFFSET_Y+pcbimport.get_component_location(\"USB1\")[1], -10+0.5)\n",
    "usbc = USBC_POS * Box(10,10,10, align=TA)\n",
    "\n",
    "RESET_POS = Pos(-MAIN_SURFACE_X/2+PCB_OFFSET_X, MAIN_SURFACE_Y/2+PCB_OFFSET_Y) * Pos(pcbimport.get_component_location(\"SW1\"))\n",
    "reset_hole = RESET_POS * Cylinder(3/2, 10)\n",
    "\n",
    "cap = cap - hinge_cutout0 - hinge_cutout1 - audio_pos * Box(AUDIO_X, AUDIO_Y, 10) - battery - display + studs_long + studs_short - cb_long - cb_short - usbc - reset_hole\n",
    "\n",
    "cap.export_stl('/tmp/cap.stl')\n",
    "cap"
   ]
  },
  {
   "cell_type": "code",
   "execution_count": 20,
   "id": "48980fa3-997d-4f9a-ae28-1bf94d72239d",
   "metadata": {},
   "outputs": [
    {
     "ename": "ValueError",
     "evalue": "STEP File /tmp/minidisc.step could not be loaded",
     "output_type": "error",
     "traceback": [
      "\u001b[0;31m---------------------------------------------------------------------------\u001b[0m",
      "\u001b[0;31mValueError\u001b[0m                                Traceback (most recent call last)",
      "Cell \u001b[0;32mIn[122], line 1\u001b[0m\n\u001b[0;32m----> 1\u001b[0m pcb \u001b[38;5;241m=\u001b[39m \u001b[43mimport_step\u001b[49m\u001b[43m(\u001b[49m\u001b[38;5;124;43m'\u001b[39;49m\u001b[38;5;124;43m/tmp/minidisc.step\u001b[39;49m\u001b[38;5;124;43m'\u001b[39;49m\u001b[43m)\u001b[49m\n\u001b[1;32m      2\u001b[0m pcb \u001b[38;5;241m=\u001b[39m Pos(\u001b[38;5;241m-\u001b[39mMAIN_SURFACE_X\u001b[38;5;241m/\u001b[39m\u001b[38;5;241m2\u001b[39m\u001b[38;5;241m+\u001b[39mPCB_OFFSET_X, MAIN_SURFACE_Y\u001b[38;5;241m/\u001b[39m\u001b[38;5;241m2\u001b[39m\u001b[38;5;241m+\u001b[39mPCB_OFFSET_Y, MAIN_SURFACE_Z\u001b[38;5;241m+\u001b[39mSTUDS_PCB_H)\u001b[38;5;241m*\u001b[39mpcb\n\u001b[1;32m      3\u001b[0m pcb\u001b[38;5;241m.\u001b[39mexport_stl(\u001b[38;5;124m'\u001b[39m\u001b[38;5;124m/tmp/pcb.stl\u001b[39m\u001b[38;5;124m'\u001b[39m)\n",
      "File \u001b[0;32m~/repos/minidisc/mech/.direnv/python-3.10.12/lib/python3.10/site-packages/build123d/importers.py:92\u001b[0m, in \u001b[0;36mimport_step\u001b[0;34m(file_name)\u001b[0m\n\u001b[1;32m     90\u001b[0m \u001b[38;5;66;03m# pylint fails to understand OCP's module here, so suppress on the next line.\u001b[39;00m\n\u001b[1;32m     91\u001b[0m \u001b[38;5;28;01mif\u001b[39;00m read_status \u001b[38;5;241m!=\u001b[39m OCP\u001b[38;5;241m.\u001b[39mIFSelect\u001b[38;5;241m.\u001b[39mIFSelect_RetDone:  \u001b[38;5;66;03m# pylint: disable=no-member\u001b[39;00m\n\u001b[0;32m---> 92\u001b[0m     \u001b[38;5;28;01mraise\u001b[39;00m \u001b[38;5;167;01mValueError\u001b[39;00m(\u001b[38;5;124mf\u001b[39m\u001b[38;5;124m\"\u001b[39m\u001b[38;5;124mSTEP File \u001b[39m\u001b[38;5;132;01m{\u001b[39;00mfile_name\u001b[38;5;132;01m}\u001b[39;00m\u001b[38;5;124m could not be loaded\u001b[39m\u001b[38;5;124m\"\u001b[39m)\n\u001b[1;32m     93\u001b[0m \u001b[38;5;28;01mfor\u001b[39;00m i \u001b[38;5;129;01min\u001b[39;00m \u001b[38;5;28mrange\u001b[39m(reader\u001b[38;5;241m.\u001b[39mNbRootsForTransfer()):\n\u001b[1;32m     94\u001b[0m     reader\u001b[38;5;241m.\u001b[39mTransferRoot(i \u001b[38;5;241m+\u001b[39m \u001b[38;5;241m1\u001b[39m)\n",
      "\u001b[0;31mValueError\u001b[0m: STEP File /tmp/minidisc.step could not be loaded"
     ]
    }
   ],
   "source": [
    "pcb = import_step('/tmp/minidisc.step')\n",
    "pcb = Pos(-MAIN_SURFACE_X/2+PCB_OFFSET_X, MAIN_SURFACE_Y/2+PCB_OFFSET_Y, MAIN_SURFACE_Z+STUDS_PCB_H)*pcb\n",
    "pcb.export_stl('/tmp/pcb.stl')\n",
    "pcb"
   ]
  },
  {
   "cell_type": "code",
   "execution_count": 130,
   "id": "86564888-f855-4fb5-80be-2f2340bab558",
   "metadata": {},
   "outputs": [
    {
     "name": "stdout",
     "output_type": "stream",
     "text": [
      "100% ⋮————————————————————————————————————————————————————————————⋮ (3/3)  0.16s\n"
     ]
    }
   ],
   "source": [
    "assembly = Compound(label='assembly', children=[housing, Pos(0,0,-(LID_INNER_H+LID_TH)) * lid, Pos(0,0,SHELL_Z-CAP_Z) * cap])\n",
    "assembly.color = Color('red')\n",
    "assembly\n"
   ]
  },
  {
   "cell_type": "code",
   "execution_count": 15,
   "id": "fc5c1329-0d2f-4472-a6e8-4149ef3130e8",
   "metadata": {},
   "outputs": [],
   "source": [
    "pcbimport.get_component_location(\"USB1\")"
   ]
  },
  {
   "cell_type": "code",
   "execution_count": 191,
   "id": "990d8e09-f2c0-4d20-ae5e-0df2067ae36a",
   "metadata": {},
   "outputs": [],
   "source": [
    "CounterBoreHole(radius = 1/2, counter_bore_radius = 2.5/2, counter_bore_depth=1, depth=20) + Cylinder(5, 20, align=TA)"
   ]
  },
  {
   "cell_type": "code",
   "execution_count": null,
   "id": "b5bc4b2c-aede-42a1-8da7-90c7577555fd",
   "metadata": {},
   "outputs": [],
   "source": []
  }
 ],
 "metadata": {
  "kernelspec": {
   "display_name": "Python 3 (ipykernel)",
   "language": "python",
   "name": "python3"
  },
  "language_info": {
   "codemirror_mode": {
    "name": "ipython",
    "version": 3
   },
   "file_extension": ".py",
   "mimetype": "text/x-python",
   "name": "python",
   "nbconvert_exporter": "python",
   "pygments_lexer": "ipython3",
   "version": "3.10.12"
  }
 },
 "nbformat": 4,
 "nbformat_minor": 5
}
